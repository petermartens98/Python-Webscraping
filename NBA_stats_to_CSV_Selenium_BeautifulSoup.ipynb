{
 "cells": [
  {
   "cell_type": "markdown",
   "id": "d9d00d21",
   "metadata": {},
   "source": [
    "## Web Scraping NBA Data to CSV using Selenium and BeautifulSoup in Python"
   ]
  },
  {
   "cell_type": "markdown",
   "id": "4a65ae65",
   "metadata": {},
   "source": [
    "### Import neccesary modules"
   ]
  },
  {
   "cell_type": "code",
   "execution_count": 2,
   "id": "b9f8ecd9",
   "metadata": {},
   "outputs": [],
   "source": [
    "import pandas as pd\n",
    "\n",
    "import selenium\n",
    "from selenium import webdriver\n",
    "from selenium.webdriver.support.ui import Select\n",
    "\n",
    "import bs4\n",
    "from bs4 import BeautifulSoup"
   ]
  },
  {
   "cell_type": "markdown",
   "id": "c06bb073",
   "metadata": {},
   "source": [
    "### Create web driver"
   ]
  },
  {
   "cell_type": "code",
   "execution_count": 3,
   "id": "f73c1461",
   "metadata": {},
   "outputs": [],
   "source": [
    "driver = webdriver.Firefox()"
   ]
  },
  {
   "cell_type": "markdown",
   "id": "6e9923fb",
   "metadata": {},
   "source": [
    "### Define URL and put into driver"
   ]
  },
  {
   "cell_type": "code",
   "execution_count": 4,
   "id": "816bbce2",
   "metadata": {},
   "outputs": [],
   "source": [
    "url = r\"https://www.nba.com/stats/players/advanced/?sort=GP&dir=-1&Season=2021-22&SeasonType=Regular%20Season\""
   ]
  },
  {
   "cell_type": "code",
   "execution_count": 63,
   "id": "af86e3ce",
   "metadata": {},
   "outputs": [],
   "source": [
    "driver.get(url)"
   ]
  },
  {
   "cell_type": "markdown",
   "id": "6024edf4",
   "metadata": {},
   "source": [
    "### By finding the xpath, change webpage to display all rows"
   ]
  },
  {
   "cell_type": "code",
   "execution_count": 65,
   "id": "689b1593",
   "metadata": {},
   "outputs": [],
   "source": [
    "select = Select(driver.find_element(\"xpath\", r\"/html/body/main/div/div/div[2]/div/div/nba-stat-table/div[1]/div/div/select\"))"
   ]
  },
  {
   "cell_type": "code",
   "execution_count": 66,
   "id": "ce747cbc",
   "metadata": {},
   "outputs": [],
   "source": [
    "select.select_by_index(0)"
   ]
  },
  {
   "cell_type": "markdown",
   "id": "b9da0b26",
   "metadata": {},
   "source": [
    "### Establish page source for BeautifulSoup to read"
   ]
  },
  {
   "cell_type": "code",
   "execution_count": 1,
   "id": "ec8f1756",
   "metadata": {},
   "outputs": [
    {
     "ename": "NameError",
     "evalue": "name 'driver' is not defined",
     "output_type": "error",
     "traceback": [
      "\u001b[1;31m---------------------------------------------------------------------------\u001b[0m",
      "\u001b[1;31mNameError\u001b[0m                                 Traceback (most recent call last)",
      "Input \u001b[1;32mIn [1]\u001b[0m, in \u001b[0;36m<cell line: 1>\u001b[1;34m()\u001b[0m\n\u001b[1;32m----> 1\u001b[0m src \u001b[38;5;241m=\u001b[39m \u001b[43mdriver\u001b[49m\u001b[38;5;241m.\u001b[39mpage_source\n\u001b[0;32m      2\u001b[0m parser \u001b[38;5;241m=\u001b[39m BeautifulSoup(src, features\u001b[38;5;241m=\u001b[39m\u001b[38;5;124m\"\u001b[39m\u001b[38;5;124mlxml\u001b[39m\u001b[38;5;124m\"\u001b[39m)\n\u001b[0;32m      3\u001b[0m table \u001b[38;5;241m=\u001b[39m parser\u001b[38;5;241m.\u001b[39mfind(\u001b[38;5;124m\"\u001b[39m\u001b[38;5;124mdiv\u001b[39m\u001b[38;5;124m\"\u001b[39m, attrs \u001b[38;5;241m=\u001b[39m {\u001b[38;5;124m\"\u001b[39m\u001b[38;5;124mclass\u001b[39m\u001b[38;5;124m\"\u001b[39m: \u001b[38;5;124m\"\u001b[39m\u001b[38;5;124mstats-body-table team\u001b[39m\u001b[38;5;124m\"\u001b[39m})\n",
      "\u001b[1;31mNameError\u001b[0m: name 'driver' is not defined"
     ]
    }
   ],
   "source": [
    "src = driver.page_source\n",
    "parser = BeautifulSoup(src, features=\"lxml\")\n",
    "table = parser.find(\"div\", attrs = {\"class\": \"stats-body-table team\"})\n",
    "headers = table.findAll('th')"
   ]
  },
  {
   "cell_type": "code",
   "execution_count": null,
   "id": "36052672",
   "metadata": {},
   "outputs": [],
   "source": [
    "table"
   ]
  },
  {
   "cell_type": "code",
   "execution_count": 37,
   "id": "aae06fe4",
   "metadata": {},
   "outputs": [
    {
     "name": "stdout",
     "output_type": "stream",
     "text": [
      "None\n"
     ]
    }
   ],
   "source": []
  },
  {
   "cell_type": "code",
   "execution_count": null,
   "id": "d3914429",
   "metadata": {},
   "outputs": [],
   "source": [
    "<div class=\"stats-body-table team\">"
   ]
  }
 ],
 "metadata": {
  "kernelspec": {
   "display_name": "Python 3 (ipykernel)",
   "language": "python",
   "name": "python3"
  },
  "language_info": {
   "codemirror_mode": {
    "name": "ipython",
    "version": 3
   },
   "file_extension": ".py",
   "mimetype": "text/x-python",
   "name": "python",
   "nbconvert_exporter": "python",
   "pygments_lexer": "ipython3",
   "version": "3.9.12"
  }
 },
 "nbformat": 4,
 "nbformat_minor": 5
}
