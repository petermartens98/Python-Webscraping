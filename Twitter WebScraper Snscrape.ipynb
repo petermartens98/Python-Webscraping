{
 "cells": [
  {
   "cell_type": "markdown",
   "id": "c44cc743",
   "metadata": {},
   "source": [
    "# Twitter WebScraper"
   ]
  },
  {
   "cell_type": "markdown",
   "id": "a1ae83b1",
   "metadata": {},
   "source": [
    "### Necessary Imports"
   ]
  },
  {
   "cell_type": "code",
   "execution_count": 56,
   "id": "c4e55fa4",
   "metadata": {},
   "outputs": [],
   "source": [
    "#!pip install snscrape"
   ]
  },
  {
   "cell_type": "code",
   "execution_count": 57,
   "id": "f21d6faa",
   "metadata": {},
   "outputs": [],
   "source": [
    "import pandas as pd\n",
    "from tqdm.notebook import tqdm\n",
    "import snscrape.modules.twitter as sntwitter"
   ]
  },
  {
   "cell_type": "markdown",
   "id": "082a5e4e",
   "metadata": {},
   "source": [
    "### Working with a single tweet"
   ]
  },
  {
   "cell_type": "code",
   "execution_count": 58,
   "id": "9a4baf1b",
   "metadata": {},
   "outputs": [],
   "source": [
    "# Define and initiate twitter search scraper\n",
    "# Looking for recent tweets with #python\n",
    "scraper = sntwitter.TwitterSearchScraper('#python')"
   ]
  },
  {
   "cell_type": "code",
   "execution_count": 59,
   "id": "fc2d20c3",
   "metadata": {},
   "outputs": [],
   "source": [
    "# run method to get single tweet example (first retrieved)\n",
    "for tweet in scraper.get_items():\n",
    "    break"
   ]
  },
  {
   "cell_type": "code",
   "execution_count": 60,
   "id": "32571630",
   "metadata": {},
   "outputs": [
    {
     "data": {
      "text/plain": [
       "Tweet(url='https://twitter.com/themis277/status/1597662900298317824', date=datetime.datetime(2022, 11, 29, 18, 44, 53, tzinfo=datetime.timezone.utc), content='تعلم أساسيات لغة آر (مادة تعليمية مصغرة)\\nhttps://t.co/RPc04nmTfu\\n#research #DataScience #MachineLearning #data #Rstats #Python #100DaysOfCode #coding #udemyfree #Java #javascript #Developers #DeepLearning #Analytics #bravome #برافو_مي #البيانات #علم_البيانات #التعلم_الآلة', renderedContent='تعلم أساسيات لغة آر (مادة تعليمية مصغرة)\\npxl.to/r4ds-ar-unihan…\\n#research #DataScience #MachineLearning #data #Rstats #Python #100DaysOfCode #coding #udemyfree #Java #javascript #Developers #DeepLearning #Analytics #bravome #برافو_مي #البيانات #علم_البيانات #التعلم_الآلة', id=1597662900298317824, user=User(username='themis277', id=1094022475736903687, displayname='Themis277', description='( Management Information Systems)!\\nAn educational Platform Explains Topics about #datascience and MIS topics ..etc\\nin Arabic and English\\nBy: @fahadmreda', rawDescription='( Management Information Systems)!\\nAn educational Platform Explains Topics about #datascience and MIS topics ..etc\\nin Arabic and English\\nBy: @fahadmreda', descriptionUrls=None, verified=False, created=datetime.datetime(2019, 2, 8, 23, 57, 38, tzinfo=datetime.timezone.utc), followersCount=1788, friendsCount=177, statusesCount=12678, favouritesCount=2248, listedCount=8, mediaCount=691, location='Jeddah, Kingdom of Saudi Arabi', protected=False, linkUrl='https://dope.link/themis', linkTcourl='https://t.co/WmF0bGBBMI', profileImageUrl='https://pbs.twimg.com/profile_images/1497216849087549441/OZJWYfUd_normal.jpg', profileBannerUrl='https://pbs.twimg.com/profile_banners/1094022475736903687/1636922035', label=None), replyCount=0, retweetCount=0, likeCount=0, quoteCount=0, conversationId=1597662900298317824, lang='ar', source='<a href=\"https://mobile.twitter.com\" rel=\"nofollow\">Twitter Web App</a>', sourceUrl='https://mobile.twitter.com', sourceLabel='Twitter Web App', outlinks=['https://pxl.to/r4ds-ar-unihance'], tcooutlinks=['https://t.co/RPc04nmTfu'], media=None, retweetedTweet=None, quotedTweet=None, inReplyToTweetId=None, inReplyToUser=None, mentionedUsers=None, coordinates=None, place=None, hashtags=['research', 'DataScience', 'MachineLearning', 'data', 'Rstats', 'Python', '100DaysOfCode', 'coding', 'udemyfree', 'Java', 'javascript', 'Developers', 'DeepLearning', 'Analytics', 'bravome', 'برافو_مي', 'البيانات', 'علم_البيانات', 'التعلم_الآلة'], cashtags=None)"
      ]
     },
     "execution_count": 60,
     "metadata": {},
     "output_type": "execute_result"
    }
   ],
   "source": [
    "# Print all tweet information\n",
    "tweet"
   ]
  },
  {
   "cell_type": "code",
   "execution_count": 61,
   "id": "f9486b6d",
   "metadata": {},
   "outputs": [
    {
     "data": {
      "text/plain": [
       "snscrape.modules.twitter.Tweet"
      ]
     },
     "execution_count": 61,
     "metadata": {},
     "output_type": "execute_result"
    }
   ],
   "source": [
    "type(tweet)"
   ]
  },
  {
   "cell_type": "code",
   "execution_count": 62,
   "id": "05f7dd5d",
   "metadata": {},
   "outputs": [
    {
     "data": {
      "text/plain": [
       "datetime.datetime(2022, 11, 29, 18, 44, 53, tzinfo=datetime.timezone.utc)"
      ]
     },
     "execution_count": 62,
     "metadata": {},
     "output_type": "execute_result"
    }
   ],
   "source": [
    "tweet.date"
   ]
  },
  {
   "cell_type": "code",
   "execution_count": 63,
   "id": "f4623180",
   "metadata": {},
   "outputs": [
    {
     "data": {
      "text/plain": [
       "1597662900298317824"
      ]
     },
     "execution_count": 63,
     "metadata": {},
     "output_type": "execute_result"
    }
   ],
   "source": [
    "tweet.id"
   ]
  },
  {
   "cell_type": "code",
   "execution_count": 64,
   "id": "7657ea72",
   "metadata": {},
   "outputs": [
    {
     "data": {
      "text/plain": [
       "'تعلم أساسيات لغة آر (مادة تعليمية مصغرة)\\nhttps://t.co/RPc04nmTfu\\n#research #DataScience #MachineLearning #data #Rstats #Python #100DaysOfCode #coding #udemyfree #Java #javascript #Developers #DeepLearning #Analytics #bravome #برافو_مي #البيانات #علم_البيانات #التعلم_الآلة'"
      ]
     },
     "execution_count": 64,
     "metadata": {},
     "output_type": "execute_result"
    }
   ],
   "source": [
    "tweet.content"
   ]
  },
  {
   "cell_type": "code",
   "execution_count": 65,
   "id": "98a274af",
   "metadata": {},
   "outputs": [
    {
     "data": {
      "text/plain": [
       "'themis277'"
      ]
     },
     "execution_count": 65,
     "metadata": {},
     "output_type": "execute_result"
    }
   ],
   "source": [
    "tweet.user.username"
   ]
  },
  {
   "cell_type": "code",
   "execution_count": 66,
   "id": "81fe40da",
   "metadata": {},
   "outputs": [
    {
     "data": {
      "text/plain": [
       "0"
      ]
     },
     "execution_count": 66,
     "metadata": {},
     "output_type": "execute_result"
    }
   ],
   "source": [
    "tweet.likeCount"
   ]
  },
  {
   "cell_type": "code",
   "execution_count": 67,
   "id": "8213e5f0",
   "metadata": {},
   "outputs": [
    {
     "data": {
      "text/plain": [
       "0"
      ]
     },
     "execution_count": 67,
     "metadata": {},
     "output_type": "execute_result"
    }
   ],
   "source": [
    "tweet.retweetCount"
   ]
  },
  {
   "cell_type": "code",
   "execution_count": 68,
   "id": "e3f90308",
   "metadata": {},
   "outputs": [
    {
     "data": {
      "text/plain": [
       "[datetime.datetime(2022, 11, 29, 18, 44, 53, tzinfo=datetime.timezone.utc),\n",
       " 1597662900298317824,\n",
       " 'تعلم أساسيات لغة آر (مادة تعليمية مصغرة)\\nhttps://t.co/RPc04nmTfu\\n#research #DataScience #MachineLearning #data #Rstats #Python #100DaysOfCode #coding #udemyfree #Java #javascript #Developers #DeepLearning #Analytics #bravome #برافو_مي #البيانات #علم_البيانات #التعلم_الآلة',\n",
       " 'themis277',\n",
       " 0,\n",
       " 0]"
      ]
     },
     "execution_count": 68,
     "metadata": {},
     "output_type": "execute_result"
    }
   ],
   "source": [
    "data = [\n",
    "    tweet.date,\n",
    "    tweet.id,\n",
    "    tweet.content,\n",
    "    tweet.user.username,\n",
    "    tweet.likeCount,\n",
    "    tweet.retweetCount\n",
    "]\n",
    "\n",
    "data"
   ]
  },
  {
   "cell_type": "markdown",
   "id": "d11a5152",
   "metadata": {},
   "source": [
    "### Working with multiple tweets"
   ]
  },
  {
   "cell_type": "code",
   "execution_count": 69,
   "id": "c863b441",
   "metadata": {},
   "outputs": [
    {
     "data": {
      "application/vnd.jupyter.widget-view+json": {
       "model_id": "671a8bd737154bd0884b7178abd37ab3",
       "version_major": 2,
       "version_minor": 0
      },
      "text/plain": [
       "  0%|          | 0/1000 [00:00<?, ?it/s]"
      ]
     },
     "metadata": {},
     "output_type": "display_data"
    }
   ],
   "source": [
    "scraper = sntwitter.TwitterSearchScraper('#python')\n",
    "\n",
    "tweets = []\n",
    "n_tweets = 1000\n",
    "for i, tweet in tqdm(enumerate(scraper.get_items()),total=n_tweets):\n",
    "    \n",
    "    data = [\n",
    "        tweet.date,\n",
    "        tweet.id,\n",
    "        tweet.content,\n",
    "        tweet.user.username,\n",
    "        tweet.likeCount,\n",
    "        tweet.retweetCount\n",
    "        ]\n",
    "    tweets.append(data)\n",
    "    if i > n_tweets:\n",
    "        break"
   ]
  },
  {
   "cell_type": "code",
   "execution_count": 70,
   "id": "3c72161b",
   "metadata": {},
   "outputs": [
    {
     "data": {
      "text/plain": [
       "1002"
      ]
     },
     "execution_count": 70,
     "metadata": {},
     "output_type": "execute_result"
    }
   ],
   "source": [
    "len(tweets)"
   ]
  },
  {
   "cell_type": "code",
   "execution_count": 71,
   "id": "e76b7e1b",
   "metadata": {},
   "outputs": [
    {
     "data": {
      "text/html": [
       "<div>\n",
       "<style scoped>\n",
       "    .dataframe tbody tr th:only-of-type {\n",
       "        vertical-align: middle;\n",
       "    }\n",
       "\n",
       "    .dataframe tbody tr th {\n",
       "        vertical-align: top;\n",
       "    }\n",
       "\n",
       "    .dataframe thead th {\n",
       "        text-align: right;\n",
       "    }\n",
       "</style>\n",
       "<table border=\"1\" class=\"dataframe\">\n",
       "  <thead>\n",
       "    <tr style=\"text-align: right;\">\n",
       "      <th></th>\n",
       "      <th>date</th>\n",
       "      <th>id</th>\n",
       "      <th>content</th>\n",
       "      <th>username</th>\n",
       "      <th>like_count</th>\n",
       "      <th>retweet_count</th>\n",
       "    </tr>\n",
       "  </thead>\n",
       "  <tbody>\n",
       "    <tr>\n",
       "      <th>0</th>\n",
       "      <td>2022-11-29 18:44:53+00:00</td>\n",
       "      <td>1597662900298317824</td>\n",
       "      <td>تعلم أساسيات لغة آر (مادة تعليمية مصغرة)\\nhttp...</td>\n",
       "      <td>themis277</td>\n",
       "      <td>0</td>\n",
       "      <td>0</td>\n",
       "    </tr>\n",
       "    <tr>\n",
       "      <th>1</th>\n",
       "      <td>2022-11-29 18:44:50+00:00</td>\n",
       "      <td>1597662887048548353</td>\n",
       "      <td>Sa wakas. Day 12 aka number guessing game done...</td>\n",
       "      <td>debbiesoria</td>\n",
       "      <td>1</td>\n",
       "      <td>0</td>\n",
       "    </tr>\n",
       "    <tr>\n",
       "      <th>2</th>\n",
       "      <td>2022-11-29 18:44:46+00:00</td>\n",
       "      <td>1597662873870012416</td>\n",
       "      <td>Management Information Systems Student’s Journ...</td>\n",
       "      <td>themis277</td>\n",
       "      <td>0</td>\n",
       "      <td>0</td>\n",
       "    </tr>\n",
       "    <tr>\n",
       "      <th>3</th>\n",
       "      <td>2022-11-29 18:44:30+00:00</td>\n",
       "      <td>1597662803254726656</td>\n",
       "      <td>SOLANA PRICE PREDICTION\\n\\nPRICE : RISE⤴ in 60...</td>\n",
       "      <td>cryptojohnsmith</td>\n",
       "      <td>0</td>\n",
       "      <td>0</td>\n",
       "    </tr>\n",
       "    <tr>\n",
       "      <th>4</th>\n",
       "      <td>2022-11-29 18:44:29+00:00</td>\n",
       "      <td>1597662799630831616</td>\n",
       "      <td>@driscollis @SaveToNotion #thread #python</td>\n",
       "      <td>Adarssha</td>\n",
       "      <td>0</td>\n",
       "      <td>0</td>\n",
       "    </tr>\n",
       "  </tbody>\n",
       "</table>\n",
       "</div>"
      ],
      "text/plain": [
       "                       date                   id  \\\n",
       "0 2022-11-29 18:44:53+00:00  1597662900298317824   \n",
       "1 2022-11-29 18:44:50+00:00  1597662887048548353   \n",
       "2 2022-11-29 18:44:46+00:00  1597662873870012416   \n",
       "3 2022-11-29 18:44:30+00:00  1597662803254726656   \n",
       "4 2022-11-29 18:44:29+00:00  1597662799630831616   \n",
       "\n",
       "                                             content         username  \\\n",
       "0  تعلم أساسيات لغة آر (مادة تعليمية مصغرة)\\nhttp...        themis277   \n",
       "1  Sa wakas. Day 12 aka number guessing game done...      debbiesoria   \n",
       "2  Management Information Systems Student’s Journ...        themis277   \n",
       "3  SOLANA PRICE PREDICTION\\n\\nPRICE : RISE⤴ in 60...  cryptojohnsmith   \n",
       "4          @driscollis @SaveToNotion #thread #python         Adarssha   \n",
       "\n",
       "   like_count  retweet_count  \n",
       "0           0              0  \n",
       "1           1              0  \n",
       "2           0              0  \n",
       "3           0              0  \n",
       "4           0              0  "
      ]
     },
     "execution_count": 71,
     "metadata": {},
     "output_type": "execute_result"
    }
   ],
   "source": [
    "tweet_df = pd.DataFrame(\n",
    "    tweets, columns=['date', 'id', 'content', 'username', 'like_count', 'retweet_count']\n",
    ")\n",
    "tweet_df.head()"
   ]
  },
  {
   "cell_type": "code",
   "execution_count": 72,
   "id": "4fa42470",
   "metadata": {},
   "outputs": [],
   "source": [
    "# Save to csv\n",
    "# tweet_df.to_csv('python_tweets.csv')"
   ]
  },
  {
   "cell_type": "markdown",
   "id": "49ec600d",
   "metadata": {},
   "source": [
    "### Scrape Elon Musks Tweets"
   ]
  },
  {
   "cell_type": "markdown",
   "id": "029701e1",
   "metadata": {},
   "source": [
    "#### Scrape Elon Musk's previous 1000 tweets"
   ]
  },
  {
   "cell_type": "code",
   "execution_count": 73,
   "id": "b3d971b8",
   "metadata": {},
   "outputs": [
    {
     "data": {
      "application/vnd.jupyter.widget-view+json": {
       "model_id": "853dec567d514c4e9657c301072cd88b",
       "version_major": 2,
       "version_minor": 0
      },
      "text/plain": [
       "  0%|          | 0/1000 [00:00<?, ?it/s]"
      ]
     },
     "metadata": {},
     "output_type": "display_data"
    }
   ],
   "source": [
    "scraper = sntwitter.TwitterSearchScraper('from:elonmusk')\n",
    "tweets = []\n",
    "n_tweets = 1000\n",
    "for i, tweet in tqdm(enumerate(scraper.get_items()),total=n_tweets):\n",
    "    \n",
    "    data = [\n",
    "        tweet.date,\n",
    "        tweet.id,\n",
    "        tweet.user.username,\n",
    "        tweet.content,\n",
    "        tweet.likeCount,\n",
    "        tweet.retweetCount\n",
    "        ]\n",
    "    tweets.append(data)\n",
    "    if i > n_tweets:\n",
    "        break"
   ]
  },
  {
   "cell_type": "code",
   "execution_count": 74,
   "id": "0d735e7e",
   "metadata": {},
   "outputs": [
    {
     "data": {
      "text/html": [
       "<div>\n",
       "<style scoped>\n",
       "    .dataframe tbody tr th:only-of-type {\n",
       "        vertical-align: middle;\n",
       "    }\n",
       "\n",
       "    .dataframe tbody tr th {\n",
       "        vertical-align: top;\n",
       "    }\n",
       "\n",
       "    .dataframe thead th {\n",
       "        text-align: right;\n",
       "    }\n",
       "</style>\n",
       "<table border=\"1\" class=\"dataframe\">\n",
       "  <thead>\n",
       "    <tr style=\"text-align: right;\">\n",
       "      <th></th>\n",
       "      <th>date</th>\n",
       "      <th>id</th>\n",
       "      <th>username</th>\n",
       "      <th>content</th>\n",
       "      <th>like_count</th>\n",
       "      <th>retweet_count</th>\n",
       "    </tr>\n",
       "  </thead>\n",
       "  <tbody>\n",
       "    <tr>\n",
       "      <th>0</th>\n",
       "      <td>2022-11-29 18:43:30+00:00</td>\n",
       "      <td>1597662553194127360</td>\n",
       "      <td>elonmusk</td>\n",
       "      <td>The people have spoken …</td>\n",
       "      <td>1780</td>\n",
       "      <td>136</td>\n",
       "    </tr>\n",
       "    <tr>\n",
       "      <th>1</th>\n",
       "      <td>2022-11-29 18:34:00+00:00</td>\n",
       "      <td>1597660162487029760</td>\n",
       "      <td>elonmusk</td>\n",
       "      <td>If Community Notes can correct me, then obviou...</td>\n",
       "      <td>6296</td>\n",
       "      <td>379</td>\n",
       "    </tr>\n",
       "    <tr>\n",
       "      <th>2</th>\n",
       "      <td>2022-11-29 18:25:12+00:00</td>\n",
       "      <td>1597657945978073088</td>\n",
       "      <td>elonmusk</td>\n",
       "      <td>@TheQuartering I think I have been very specific</td>\n",
       "      <td>1854</td>\n",
       "      <td>119</td>\n",
       "    </tr>\n",
       "    <tr>\n",
       "      <th>3</th>\n",
       "      <td>2022-11-29 16:33:32+00:00</td>\n",
       "      <td>1597629846611726336</td>\n",
       "      <td>elonmusk</td>\n",
       "      <td>@DavidSacks It’s a real problem. Apple and Goo...</td>\n",
       "      <td>87196</td>\n",
       "      <td>9893</td>\n",
       "    </tr>\n",
       "    <tr>\n",
       "      <th>4</th>\n",
       "      <td>2022-11-29 16:28:19+00:00</td>\n",
       "      <td>1597628531294769152</td>\n",
       "      <td>elonmusk</td>\n",
       "      <td>@cb_doge @stillgray @ezralevant @latimes That ...</td>\n",
       "      <td>4171</td>\n",
       "      <td>285</td>\n",
       "    </tr>\n",
       "  </tbody>\n",
       "</table>\n",
       "</div>"
      ],
      "text/plain": [
       "                       date                   id  username  \\\n",
       "0 2022-11-29 18:43:30+00:00  1597662553194127360  elonmusk   \n",
       "1 2022-11-29 18:34:00+00:00  1597660162487029760  elonmusk   \n",
       "2 2022-11-29 18:25:12+00:00  1597657945978073088  elonmusk   \n",
       "3 2022-11-29 16:33:32+00:00  1597629846611726336  elonmusk   \n",
       "4 2022-11-29 16:28:19+00:00  1597628531294769152  elonmusk   \n",
       "\n",
       "                                             content  like_count  \\\n",
       "0                           The people have spoken …        1780   \n",
       "1  If Community Notes can correct me, then obviou...        6296   \n",
       "2   @TheQuartering I think I have been very specific        1854   \n",
       "3  @DavidSacks It’s a real problem. Apple and Goo...       87196   \n",
       "4  @cb_doge @stillgray @ezralevant @latimes That ...        4171   \n",
       "\n",
       "   retweet_count  \n",
       "0            136  \n",
       "1            379  \n",
       "2            119  \n",
       "3           9893  \n",
       "4            285  "
      ]
     },
     "execution_count": 74,
     "metadata": {},
     "output_type": "execute_result"
    }
   ],
   "source": [
    "elon_tweet_df = pd.DataFrame(\n",
    "    tweets, columns=['date', 'id', 'username', 'content', 'like_count', 'retweet_count']\n",
    ")\n",
    "elon_tweet_df.head()"
   ]
  },
  {
   "cell_type": "markdown",
   "id": "8dfc5ca6",
   "metadata": {},
   "source": [
    "#### Scrape all of Elon Musk's tweets"
   ]
  },
  {
   "cell_type": "code",
   "execution_count": 75,
   "id": "37dde30b",
   "metadata": {},
   "outputs": [
    {
     "data": {
      "application/vnd.jupyter.widget-view+json": {
       "model_id": "9cd0d0d9ef0842e3afae868562960675",
       "version_major": 2,
       "version_minor": 0
      },
      "text/plain": [
       "0it [00:00, ?it/s]"
      ]
     },
     "metadata": {},
     "output_type": "display_data"
    }
   ],
   "source": [
    "scraper = sntwitter.TwitterSearchScraper('from:elonmusk')\n",
    "tweets = []\n",
    "for i, tweet in tqdm(enumerate(scraper.get_items())):\n",
    "    \n",
    "    data = [\n",
    "        tweet.date,\n",
    "        tweet.id,\n",
    "        tweet.user.username,\n",
    "        tweet.content,\n",
    "        tweet.likeCount,\n",
    "        tweet.retweetCount\n",
    "        ]\n",
    "    tweets.append(data)"
   ]
  },
  {
   "cell_type": "code",
   "execution_count": 76,
   "id": "d1ff3766",
   "metadata": {},
   "outputs": [
    {
     "data": {
      "text/plain": [
       "18387"
      ]
     },
     "execution_count": 76,
     "metadata": {},
     "output_type": "execute_result"
    }
   ],
   "source": [
    "len(tweets)"
   ]
  },
  {
   "cell_type": "code",
   "execution_count": 79,
   "id": "94f8f83c",
   "metadata": {},
   "outputs": [
    {
     "data": {
      "text/html": [
       "<div>\n",
       "<style scoped>\n",
       "    .dataframe tbody tr th:only-of-type {\n",
       "        vertical-align: middle;\n",
       "    }\n",
       "\n",
       "    .dataframe tbody tr th {\n",
       "        vertical-align: top;\n",
       "    }\n",
       "\n",
       "    .dataframe thead th {\n",
       "        text-align: right;\n",
       "    }\n",
       "</style>\n",
       "<table border=\"1\" class=\"dataframe\">\n",
       "  <thead>\n",
       "    <tr style=\"text-align: right;\">\n",
       "      <th></th>\n",
       "      <th>date</th>\n",
       "      <th>id</th>\n",
       "      <th>username</th>\n",
       "      <th>content</th>\n",
       "      <th>like_count</th>\n",
       "      <th>retweet_count</th>\n",
       "    </tr>\n",
       "  </thead>\n",
       "  <tbody>\n",
       "    <tr>\n",
       "      <th>0</th>\n",
       "      <td>2022-11-29 18:43:30+00:00</td>\n",
       "      <td>1597662553194127360</td>\n",
       "      <td>elonmusk</td>\n",
       "      <td>The people have spoken …</td>\n",
       "      <td>4967</td>\n",
       "      <td>346</td>\n",
       "    </tr>\n",
       "    <tr>\n",
       "      <th>1</th>\n",
       "      <td>2022-11-29 18:34:00+00:00</td>\n",
       "      <td>1597660162487029760</td>\n",
       "      <td>elonmusk</td>\n",
       "      <td>If Community Notes can correct me, then obviou...</td>\n",
       "      <td>7140</td>\n",
       "      <td>412</td>\n",
       "    </tr>\n",
       "    <tr>\n",
       "      <th>2</th>\n",
       "      <td>2022-11-29 18:25:12+00:00</td>\n",
       "      <td>1597657945978073088</td>\n",
       "      <td>elonmusk</td>\n",
       "      <td>@TheQuartering I think I have been very specific</td>\n",
       "      <td>1952</td>\n",
       "      <td>125</td>\n",
       "    </tr>\n",
       "    <tr>\n",
       "      <th>3</th>\n",
       "      <td>2022-11-29 16:33:32+00:00</td>\n",
       "      <td>1597629846611726336</td>\n",
       "      <td>elonmusk</td>\n",
       "      <td>@DavidSacks It’s a real problem. Apple and Goo...</td>\n",
       "      <td>87913</td>\n",
       "      <td>9970</td>\n",
       "    </tr>\n",
       "    <tr>\n",
       "      <th>4</th>\n",
       "      <td>2022-11-29 16:28:19+00:00</td>\n",
       "      <td>1597628531294769152</td>\n",
       "      <td>elonmusk</td>\n",
       "      <td>@cb_doge @stillgray @ezralevant @latimes That ...</td>\n",
       "      <td>4194</td>\n",
       "      <td>290</td>\n",
       "    </tr>\n",
       "    <tr>\n",
       "      <th>...</th>\n",
       "      <td>...</td>\n",
       "      <td>...</td>\n",
       "      <td>...</td>\n",
       "      <td>...</td>\n",
       "      <td>...</td>\n",
       "      <td>...</td>\n",
       "    </tr>\n",
       "    <tr>\n",
       "      <th>18382</th>\n",
       "      <td>2011-12-03 08:22:07+00:00</td>\n",
       "      <td>142881284019060736</td>\n",
       "      <td>elonmusk</td>\n",
       "      <td>That was a total non sequitur btw</td>\n",
       "      <td>142</td>\n",
       "      <td>15</td>\n",
       "    </tr>\n",
       "    <tr>\n",
       "      <th>18383</th>\n",
       "      <td>2011-12-03 08:20:28+00:00</td>\n",
       "      <td>142880871391838208</td>\n",
       "      <td>elonmusk</td>\n",
       "      <td>Great Voltaire quote, arguably better than Twa...</td>\n",
       "      <td>84</td>\n",
       "      <td>33</td>\n",
       "    </tr>\n",
       "    <tr>\n",
       "      <th>18384</th>\n",
       "      <td>2011-12-01 10:29:04+00:00</td>\n",
       "      <td>142188458125963264</td>\n",
       "      <td>elonmusk</td>\n",
       "      <td>I made the volume on the Model S http://t.co/w...</td>\n",
       "      <td>76</td>\n",
       "      <td>13</td>\n",
       "    </tr>\n",
       "    <tr>\n",
       "      <th>18385</th>\n",
       "      <td>2011-12-01 09:55:11+00:00</td>\n",
       "      <td>142179928203460608</td>\n",
       "      <td>elonmusk</td>\n",
       "      <td>Went to Iceland on Sat to ride bumper cars on ...</td>\n",
       "      <td>190</td>\n",
       "      <td>22</td>\n",
       "    </tr>\n",
       "    <tr>\n",
       "      <th>18386</th>\n",
       "      <td>2010-06-04 18:31:57+00:00</td>\n",
       "      <td>15434727182</td>\n",
       "      <td>elonmusk</td>\n",
       "      <td>Please ignore prior tweets, as that was someon...</td>\n",
       "      <td>6365</td>\n",
       "      <td>644</td>\n",
       "    </tr>\n",
       "  </tbody>\n",
       "</table>\n",
       "<p>18387 rows × 6 columns</p>\n",
       "</div>"
      ],
      "text/plain": [
       "                           date                   id  username  \\\n",
       "0     2022-11-29 18:43:30+00:00  1597662553194127360  elonmusk   \n",
       "1     2022-11-29 18:34:00+00:00  1597660162487029760  elonmusk   \n",
       "2     2022-11-29 18:25:12+00:00  1597657945978073088  elonmusk   \n",
       "3     2022-11-29 16:33:32+00:00  1597629846611726336  elonmusk   \n",
       "4     2022-11-29 16:28:19+00:00  1597628531294769152  elonmusk   \n",
       "...                         ...                  ...       ...   \n",
       "18382 2011-12-03 08:22:07+00:00   142881284019060736  elonmusk   \n",
       "18383 2011-12-03 08:20:28+00:00   142880871391838208  elonmusk   \n",
       "18384 2011-12-01 10:29:04+00:00   142188458125963264  elonmusk   \n",
       "18385 2011-12-01 09:55:11+00:00   142179928203460608  elonmusk   \n",
       "18386 2010-06-04 18:31:57+00:00          15434727182  elonmusk   \n",
       "\n",
       "                                                 content  like_count  \\\n",
       "0                               The people have spoken …        4967   \n",
       "1      If Community Notes can correct me, then obviou...        7140   \n",
       "2       @TheQuartering I think I have been very specific        1952   \n",
       "3      @DavidSacks It’s a real problem. Apple and Goo...       87913   \n",
       "4      @cb_doge @stillgray @ezralevant @latimes That ...        4194   \n",
       "...                                                  ...         ...   \n",
       "18382                  That was a total non sequitur btw         142   \n",
       "18383  Great Voltaire quote, arguably better than Twa...          84   \n",
       "18384  I made the volume on the Model S http://t.co/w...          76   \n",
       "18385  Went to Iceland on Sat to ride bumper cars on ...         190   \n",
       "18386  Please ignore prior tweets, as that was someon...        6365   \n",
       "\n",
       "       retweet_count  \n",
       "0                346  \n",
       "1                412  \n",
       "2                125  \n",
       "3               9970  \n",
       "4                290  \n",
       "...              ...  \n",
       "18382             15  \n",
       "18383             33  \n",
       "18384             13  \n",
       "18385             22  \n",
       "18386            644  \n",
       "\n",
       "[18387 rows x 6 columns]"
      ]
     },
     "execution_count": 79,
     "metadata": {},
     "output_type": "execute_result"
    }
   ],
   "source": [
    "elon_tweet_df = pd.DataFrame(\n",
    "    tweets, columns=['date', 'id', 'username', 'content', 'like_count', 'retweet_count']\n",
    ")\n",
    "elon_tweet_df"
   ]
  },
  {
   "cell_type": "code",
   "execution_count": 80,
   "id": "91220643",
   "metadata": {},
   "outputs": [],
   "source": [
    "# Save to csv\n",
    "elon_tweet_df.to_csv('elon_tweets.csv')"
   ]
  }
 ],
 "metadata": {
  "kernelspec": {
   "display_name": "Python 3 (ipykernel)",
   "language": "python",
   "name": "python3"
  },
  "language_info": {
   "codemirror_mode": {
    "name": "ipython",
    "version": 3
   },
   "file_extension": ".py",
   "mimetype": "text/x-python",
   "name": "python",
   "nbconvert_exporter": "python",
   "pygments_lexer": "ipython3",
   "version": "3.9.12"
  }
 },
 "nbformat": 4,
 "nbformat_minor": 5
}
