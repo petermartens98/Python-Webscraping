{
 "cells": [
  {
   "cell_type": "code",
   "execution_count": 7,
   "id": "0a9f82d0",
   "metadata": {},
   "outputs": [],
   "source": [
    "import requests\n",
    "from bs4 import BeautifulSoup\n",
    "import pandas as pd\n",
    "\n",
    "import warnings\n",
    "warnings.filterwarnings('ignore')"
   ]
  },
  {
   "cell_type": "code",
   "execution_count": 8,
   "id": "8dd97efb",
   "metadata": {},
   "outputs": [],
   "source": [
    "def get_NBA_stats():\n",
    "    year=input(\"Which NBA season are you interested in?: \")\n",
    "    player=input(\"Which player do you want to get stats for?: \")\n",
    "    url = 'https://www.basketball-reference.com/leagues/NBA_{}_per_game.html'.format(year)\n",
    "    r = requests.get(url)\n",
    "    r_html = r.text\n",
    "    soup = BeautifulSoup(r_html,'html.parser')\n",
    "    table=soup.find_all(class_=\"full_table\")\n",
    "    head=soup.find(class_=\"thead\")\n",
    "    column_names_raw=[head.text for item in head][0]\n",
    "    column_names_polished=column_names_raw.replace(\"\\n\",\",\").split(\",\")[2:-1]\n",
    "    players=[]\n",
    "    for i in range(len(table)):\n",
    "        player_=[]\n",
    "        for td in table[i].find_all(\"td\"):\n",
    "            player_.append(td.text)\n",
    "        players.append(player_)\n",
    "    df=pd.DataFrame(players, columns=column_names_polished).set_index(\"Player\")\n",
    "    df.index=df.index.str.replace('*', '')\n",
    "    print(df.loc[player])"
   ]
  },
  {
   "cell_type": "code",
   "execution_count": 9,
   "id": "bd93b11f",
   "metadata": {},
   "outputs": [
    {
     "name": "stdout",
     "output_type": "stream",
     "text": [
      "Which NBA season are you interested in?: 2021\n",
      "Which player do you want to get stats for?: Donovan Mitchell\n",
      "Pos       PG\n",
      "Age       24\n",
      "Tm       UTA\n",
      "G         53\n",
      "GS        53\n",
      "MP      33.4\n",
      "FG       9.0\n",
      "FGA     20.6\n",
      "FG%     .438\n",
      "3P       3.4\n",
      "3PA      8.7\n",
      "3P%     .386\n",
      "2P       5.7\n",
      "2PA     11.9\n",
      "2P%     .476\n",
      "eFG%    .520\n",
      "FT       5.0\n",
      "FTA      6.0\n",
      "FT%     .845\n",
      "ORB      0.9\n",
      "DRB      3.5\n",
      "TRB      4.4\n",
      "AST      5.2\n",
      "STL      1.0\n",
      "BLK      0.3\n",
      "TOV      2.8\n",
      "PF       2.2\n",
      "PTS     26.4\n",
      "Name: Donovan Mitchell, dtype: object\n"
     ]
    }
   ],
   "source": [
    "get_NBA_stats()"
   ]
  }
 ],
 "metadata": {
  "kernelspec": {
   "display_name": "Python 3 (ipykernel)",
   "language": "python",
   "name": "python3"
  },
  "language_info": {
   "codemirror_mode": {
    "name": "ipython",
    "version": 3
   },
   "file_extension": ".py",
   "mimetype": "text/x-python",
   "name": "python",
   "nbconvert_exporter": "python",
   "pygments_lexer": "ipython3",
   "version": "3.9.12"
  }
 },
 "nbformat": 4,
 "nbformat_minor": 5
}
